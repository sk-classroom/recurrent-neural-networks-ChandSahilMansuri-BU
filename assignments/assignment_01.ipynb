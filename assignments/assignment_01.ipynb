{
  "cells": [
    {
      "cell_type": "markdown",
      "metadata": {
        "id": "fPKEsz6iwHTD"
      },
      "source": [
        "[![Open In Colab](https://colab.research.google.com/assets/colab-badge.svg)](http://colab.research.google.com/github/sk-classroom/asc-recurrent-neural-nets/blob/main/assignments/assignment_01.ipynb)\n",
        "\n",
        "We will be creating a simple character-level Recurrent Neural Network (RNN) to classify city names into their respective countries.\n",
        "\n",
        "This character-level RNN will read a city name as a sequence of characters. We will use the data from [simplemap.com](https://simplemaps.com/data/world-cities). The data is preprocessed by extracting the some number of top countries and randomly sampling their respective cities. Then, the data is splitted into a train dataset and test dataset.  \n",
        "\n",
        "# Data\n"
      ]
    },
    {
      "cell_type": "code",
      "execution_count": 142,
      "metadata": {
        "id": "W5tYWhilwHTI",
        "outputId": "cf11f9dc-50d1-4518-8832-706b94ddad26",
        "colab": {
          "base_uri": "https://localhost:8080/",
          "height": 206
        }
      },
      "outputs": [
        {
          "output_type": "execute_result",
          "data": {
            "text/plain": [
              "         city country\n",
              "0  Shinhidaka   Japan\n",
              "1       Gormi   India\n",
              "2     Alleroy  Russia\n",
              "3    Yelizovo  Russia\n",
              "4   Sodegaura   Japan"
            ],
            "text/html": [
              "\n",
              "  <div id=\"df-2287ed21-965a-4dca-9341-2b8ce8f212c8\" class=\"colab-df-container\">\n",
              "    <div>\n",
              "<style scoped>\n",
              "    .dataframe tbody tr th:only-of-type {\n",
              "        vertical-align: middle;\n",
              "    }\n",
              "\n",
              "    .dataframe tbody tr th {\n",
              "        vertical-align: top;\n",
              "    }\n",
              "\n",
              "    .dataframe thead th {\n",
              "        text-align: right;\n",
              "    }\n",
              "</style>\n",
              "<table border=\"1\" class=\"dataframe\">\n",
              "  <thead>\n",
              "    <tr style=\"text-align: right;\">\n",
              "      <th></th>\n",
              "      <th>city</th>\n",
              "      <th>country</th>\n",
              "    </tr>\n",
              "  </thead>\n",
              "  <tbody>\n",
              "    <tr>\n",
              "      <th>0</th>\n",
              "      <td>Shinhidaka</td>\n",
              "      <td>Japan</td>\n",
              "    </tr>\n",
              "    <tr>\n",
              "      <th>1</th>\n",
              "      <td>Gormi</td>\n",
              "      <td>India</td>\n",
              "    </tr>\n",
              "    <tr>\n",
              "      <th>2</th>\n",
              "      <td>Alleroy</td>\n",
              "      <td>Russia</td>\n",
              "    </tr>\n",
              "    <tr>\n",
              "      <th>3</th>\n",
              "      <td>Yelizovo</td>\n",
              "      <td>Russia</td>\n",
              "    </tr>\n",
              "    <tr>\n",
              "      <th>4</th>\n",
              "      <td>Sodegaura</td>\n",
              "      <td>Japan</td>\n",
              "    </tr>\n",
              "  </tbody>\n",
              "</table>\n",
              "</div>\n",
              "    <div class=\"colab-df-buttons\">\n",
              "\n",
              "  <div class=\"colab-df-container\">\n",
              "    <button class=\"colab-df-convert\" onclick=\"convertToInteractive('df-2287ed21-965a-4dca-9341-2b8ce8f212c8')\"\n",
              "            title=\"Convert this dataframe to an interactive table.\"\n",
              "            style=\"display:none;\">\n",
              "\n",
              "  <svg xmlns=\"http://www.w3.org/2000/svg\" height=\"24px\" viewBox=\"0 -960 960 960\">\n",
              "    <path d=\"M120-120v-720h720v720H120Zm60-500h600v-160H180v160Zm220 220h160v-160H400v160Zm0 220h160v-160H400v160ZM180-400h160v-160H180v160Zm440 0h160v-160H620v160ZM180-180h160v-160H180v160Zm440 0h160v-160H620v160Z\"/>\n",
              "  </svg>\n",
              "    </button>\n",
              "\n",
              "  <style>\n",
              "    .colab-df-container {\n",
              "      display:flex;\n",
              "      gap: 12px;\n",
              "    }\n",
              "\n",
              "    .colab-df-convert {\n",
              "      background-color: #E8F0FE;\n",
              "      border: none;\n",
              "      border-radius: 50%;\n",
              "      cursor: pointer;\n",
              "      display: none;\n",
              "      fill: #1967D2;\n",
              "      height: 32px;\n",
              "      padding: 0 0 0 0;\n",
              "      width: 32px;\n",
              "    }\n",
              "\n",
              "    .colab-df-convert:hover {\n",
              "      background-color: #E2EBFA;\n",
              "      box-shadow: 0px 1px 2px rgba(60, 64, 67, 0.3), 0px 1px 3px 1px rgba(60, 64, 67, 0.15);\n",
              "      fill: #174EA6;\n",
              "    }\n",
              "\n",
              "    .colab-df-buttons div {\n",
              "      margin-bottom: 4px;\n",
              "    }\n",
              "\n",
              "    [theme=dark] .colab-df-convert {\n",
              "      background-color: #3B4455;\n",
              "      fill: #D2E3FC;\n",
              "    }\n",
              "\n",
              "    [theme=dark] .colab-df-convert:hover {\n",
              "      background-color: #434B5C;\n",
              "      box-shadow: 0px 1px 3px 1px rgba(0, 0, 0, 0.15);\n",
              "      filter: drop-shadow(0px 1px 2px rgba(0, 0, 0, 0.3));\n",
              "      fill: #FFFFFF;\n",
              "    }\n",
              "  </style>\n",
              "\n",
              "    <script>\n",
              "      const buttonEl =\n",
              "        document.querySelector('#df-2287ed21-965a-4dca-9341-2b8ce8f212c8 button.colab-df-convert');\n",
              "      buttonEl.style.display =\n",
              "        google.colab.kernel.accessAllowed ? 'block' : 'none';\n",
              "\n",
              "      async function convertToInteractive(key) {\n",
              "        const element = document.querySelector('#df-2287ed21-965a-4dca-9341-2b8ce8f212c8');\n",
              "        const dataTable =\n",
              "          await google.colab.kernel.invokeFunction('convertToInteractive',\n",
              "                                                    [key], {});\n",
              "        if (!dataTable) return;\n",
              "\n",
              "        const docLinkHtml = 'Like what you see? Visit the ' +\n",
              "          '<a target=\"_blank\" href=https://colab.research.google.com/notebooks/data_table.ipynb>data table notebook</a>'\n",
              "          + ' to learn more about interactive tables.';\n",
              "        element.innerHTML = '';\n",
              "        dataTable['output_type'] = 'display_data';\n",
              "        await google.colab.output.renderOutput(dataTable, element);\n",
              "        const docLink = document.createElement('div');\n",
              "        docLink.innerHTML = docLinkHtml;\n",
              "        element.appendChild(docLink);\n",
              "      }\n",
              "    </script>\n",
              "  </div>\n",
              "\n",
              "\n",
              "<div id=\"df-b3b14844-e68d-4ada-8852-4183afe98416\">\n",
              "  <button class=\"colab-df-quickchart\" onclick=\"quickchart('df-b3b14844-e68d-4ada-8852-4183afe98416')\"\n",
              "            title=\"Suggest charts\"\n",
              "            style=\"display:none;\">\n",
              "\n",
              "<svg xmlns=\"http://www.w3.org/2000/svg\" height=\"24px\"viewBox=\"0 0 24 24\"\n",
              "     width=\"24px\">\n",
              "    <g>\n",
              "        <path d=\"M19 3H5c-1.1 0-2 .9-2 2v14c0 1.1.9 2 2 2h14c1.1 0 2-.9 2-2V5c0-1.1-.9-2-2-2zM9 17H7v-7h2v7zm4 0h-2V7h2v10zm4 0h-2v-4h2v4z\"/>\n",
              "    </g>\n",
              "</svg>\n",
              "  </button>\n",
              "\n",
              "<style>\n",
              "  .colab-df-quickchart {\n",
              "      --bg-color: #E8F0FE;\n",
              "      --fill-color: #1967D2;\n",
              "      --hover-bg-color: #E2EBFA;\n",
              "      --hover-fill-color: #174EA6;\n",
              "      --disabled-fill-color: #AAA;\n",
              "      --disabled-bg-color: #DDD;\n",
              "  }\n",
              "\n",
              "  [theme=dark] .colab-df-quickchart {\n",
              "      --bg-color: #3B4455;\n",
              "      --fill-color: #D2E3FC;\n",
              "      --hover-bg-color: #434B5C;\n",
              "      --hover-fill-color: #FFFFFF;\n",
              "      --disabled-bg-color: #3B4455;\n",
              "      --disabled-fill-color: #666;\n",
              "  }\n",
              "\n",
              "  .colab-df-quickchart {\n",
              "    background-color: var(--bg-color);\n",
              "    border: none;\n",
              "    border-radius: 50%;\n",
              "    cursor: pointer;\n",
              "    display: none;\n",
              "    fill: var(--fill-color);\n",
              "    height: 32px;\n",
              "    padding: 0;\n",
              "    width: 32px;\n",
              "  }\n",
              "\n",
              "  .colab-df-quickchart:hover {\n",
              "    background-color: var(--hover-bg-color);\n",
              "    box-shadow: 0 1px 2px rgba(60, 64, 67, 0.3), 0 1px 3px 1px rgba(60, 64, 67, 0.15);\n",
              "    fill: var(--button-hover-fill-color);\n",
              "  }\n",
              "\n",
              "  .colab-df-quickchart-complete:disabled,\n",
              "  .colab-df-quickchart-complete:disabled:hover {\n",
              "    background-color: var(--disabled-bg-color);\n",
              "    fill: var(--disabled-fill-color);\n",
              "    box-shadow: none;\n",
              "  }\n",
              "\n",
              "  .colab-df-spinner {\n",
              "    border: 2px solid var(--fill-color);\n",
              "    border-color: transparent;\n",
              "    border-bottom-color: var(--fill-color);\n",
              "    animation:\n",
              "      spin 1s steps(1) infinite;\n",
              "  }\n",
              "\n",
              "  @keyframes spin {\n",
              "    0% {\n",
              "      border-color: transparent;\n",
              "      border-bottom-color: var(--fill-color);\n",
              "      border-left-color: var(--fill-color);\n",
              "    }\n",
              "    20% {\n",
              "      border-color: transparent;\n",
              "      border-left-color: var(--fill-color);\n",
              "      border-top-color: var(--fill-color);\n",
              "    }\n",
              "    30% {\n",
              "      border-color: transparent;\n",
              "      border-left-color: var(--fill-color);\n",
              "      border-top-color: var(--fill-color);\n",
              "      border-right-color: var(--fill-color);\n",
              "    }\n",
              "    40% {\n",
              "      border-color: transparent;\n",
              "      border-right-color: var(--fill-color);\n",
              "      border-top-color: var(--fill-color);\n",
              "    }\n",
              "    60% {\n",
              "      border-color: transparent;\n",
              "      border-right-color: var(--fill-color);\n",
              "    }\n",
              "    80% {\n",
              "      border-color: transparent;\n",
              "      border-right-color: var(--fill-color);\n",
              "      border-bottom-color: var(--fill-color);\n",
              "    }\n",
              "    90% {\n",
              "      border-color: transparent;\n",
              "      border-bottom-color: var(--fill-color);\n",
              "    }\n",
              "  }\n",
              "</style>\n",
              "\n",
              "  <script>\n",
              "    async function quickchart(key) {\n",
              "      const quickchartButtonEl =\n",
              "        document.querySelector('#' + key + ' button');\n",
              "      quickchartButtonEl.disabled = true;  // To prevent multiple clicks.\n",
              "      quickchartButtonEl.classList.add('colab-df-spinner');\n",
              "      try {\n",
              "        const charts = await google.colab.kernel.invokeFunction(\n",
              "            'suggestCharts', [key], {});\n",
              "      } catch (error) {\n",
              "        console.error('Error during call to suggestCharts:', error);\n",
              "      }\n",
              "      quickchartButtonEl.classList.remove('colab-df-spinner');\n",
              "      quickchartButtonEl.classList.add('colab-df-quickchart-complete');\n",
              "    }\n",
              "    (() => {\n",
              "      let quickchartButtonEl =\n",
              "        document.querySelector('#df-b3b14844-e68d-4ada-8852-4183afe98416 button');\n",
              "      quickchartButtonEl.style.display =\n",
              "        google.colab.kernel.accessAllowed ? 'block' : 'none';\n",
              "    })();\n",
              "  </script>\n",
              "</div>\n",
              "\n",
              "    </div>\n",
              "  </div>\n"
            ],
            "application/vnd.google.colaboratory.intrinsic+json": {
              "type": "dataframe",
              "variable_name": "train_data",
              "summary": "{\n  \"name\": \"train_data\",\n  \"rows\": 16300,\n  \"fields\": [\n    {\n      \"column\": \"city\",\n      \"properties\": {\n        \"dtype\": \"string\",\n        \"num_unique_values\": 15518,\n        \"samples\": [\n          \"North Plainfield\",\n          \"Balingoan\",\n          \"Camiling\"\n        ],\n        \"semantic_type\": \"\",\n        \"description\": \"\"\n      }\n    },\n    {\n      \"column\": \"country\",\n      \"properties\": {\n        \"dtype\": \"category\",\n        \"num_unique_values\": 15,\n        \"samples\": [\n          \"United Kingdom\",\n          \"Colombia\",\n          \"Japan\"\n        ],\n        \"semantic_type\": \"\",\n        \"description\": \"\"\n      }\n    }\n  ]\n}"
            }
          },
          "metadata": {},
          "execution_count": 142
        }
      ],
      "source": [
        "import pandas as pd\n",
        "import numpy as np\n",
        "import json\n",
        "\n",
        "root = \"https://raw.githubusercontent.com/sk-classroom/asc-recurrent-neural-nets/main\"\n",
        "\n",
        "train_data = pd.read_csv(f\"{root}/data/train.csv\")\n",
        "train_data.head()"
      ]
    },
    {
      "cell_type": "code",
      "execution_count": 143,
      "metadata": {
        "id": "q2ZXHJGYwHTK"
      },
      "outputs": [],
      "source": [
        "train_input_data = train_data[\"city\"].values\n",
        "train_target_data = train_data[\"country\"].values"
      ]
    },
    {
      "cell_type": "markdown",
      "metadata": {
        "id": "4QO5jSkdwHTK"
      },
      "source": [
        "Next, we will load a list of unique characters in the city names.\n"
      ]
    },
    {
      "cell_type": "code",
      "execution_count": 144,
      "metadata": {
        "id": "c_rFrTgRwHTL",
        "outputId": "8f0d8691-1e40-4f3f-850b-09f3f1a498ae",
        "colab": {
          "base_uri": "https://localhost:8080/"
        }
      },
      "outputs": [
        {
          "output_type": "stream",
          "name": "stdout",
          "text": [
            "[' ', ' ', \"'\", '(', ')', '-', '.', '/', 'A', 'B', 'C', 'D', 'E', 'F', 'G', 'H', 'I', 'J', 'K', 'L', 'M', 'N', 'O', 'P', 'Q', 'R', 'S', 'T', 'U', 'V']\n"
          ]
        }
      ],
      "source": [
        "import requests\n",
        "# load unique charss from unique_chars.json\n",
        "'''with open(f\"{root}/data/unique_chars.json\", \"r\") as f:\n",
        "    unique_chars = json.load(f)\n",
        "print(unique_chars[:30])'''\n",
        "\n",
        "# Define the URL of the JSON file\n",
        "unique_chars_url = \"https://raw.githubusercontent.com/sk-classroom/asc-recurrent-neural-nets/main/data/unique_chars.json\"\n",
        "\n",
        "# Load unique characters from the JSON file\n",
        "response = requests.get(unique_chars_url)\n",
        "unique_chars = json.loads(response.text)\n",
        "\n",
        "print(unique_chars[:30])"
      ]
    },
    {
      "cell_type": "markdown",
      "metadata": {
        "id": "He1lwYWxwHTL"
      },
      "source": [
        "# Convert the city names into Pytorch Tensors\n",
        "\n",
        "We will prepare some utility functions to convert the city names into PyTorch Tensors by using one-hot encoding. Our one-hot vector has a length of the number of unique characters, with a 1 at the index of the current character and 0 everywhere else.\n"
      ]
    },
    {
      "cell_type": "code",
      "execution_count": 145,
      "metadata": {
        "id": "pkKa60CDwHTL",
        "outputId": "624d52c3-6daf-417e-d9ba-c53771f94310",
        "colab": {
          "base_uri": "https://localhost:8080/"
        }
      },
      "outputs": [
        {
          "output_type": "stream",
          "name": "stdout",
          "text": [
            "tensor([[0., 0., 0., 0., 0., 0., 0., 0., 0., 1., 0., 0., 0., 0., 0., 0., 0., 0.,\n",
            "         0., 0., 0., 0., 0., 0., 0., 0., 0., 0., 0., 0., 0., 0., 0., 0., 0., 0.,\n",
            "         0., 0., 0., 0., 0., 0., 0., 0., 0., 0., 0., 0., 0., 0., 0., 0., 0., 0.,\n",
            "         0., 0., 0., 0., 0., 0., 0., 0., 0., 0., 0., 0., 0., 0., 0., 0., 0., 0.,\n",
            "         0., 0., 0., 0., 0., 0., 0., 0., 0., 0., 0., 0., 0., 0., 0., 0., 0., 0.,\n",
            "         0., 0., 0., 0., 0., 0., 0., 0., 0., 0., 0., 0., 0., 0., 0.]])\n",
            "tensor([[0., 0., 0.,  ..., 0., 0., 0.],\n",
            "        [0., 0., 0.,  ..., 0., 0., 0.],\n",
            "        [0., 0., 0.,  ..., 0., 0., 0.],\n",
            "        ...,\n",
            "        [0., 0., 0.,  ..., 0., 0., 0.],\n",
            "        [0., 0., 0.,  ..., 0., 0., 0.],\n",
            "        [0., 0., 0.,  ..., 0., 0., 0.]])\n"
          ]
        }
      ],
      "source": [
        "import torch\n",
        "\n",
        "n_letters = len(unique_chars)\n",
        "\n",
        "\n",
        "# Function to find the index of a letter without predefining all_letters\n",
        "def letterToIndex(letter):\n",
        "    return unique_chars.index(letter)\n",
        "\n",
        "\n",
        "# Function to convert a string into a Tensor of shape <line_length x 1 x n_letters>\n",
        "# Each character in the string is represented as a one-hot vector\n",
        "def lineToTensor(line):\n",
        "    tensor = torch.zeros(len(line), n_letters)\n",
        "    for li, letter in enumerate(line):\n",
        "        tensor[li][letterToIndex(letter)] = 1\n",
        "    return tensor\n",
        "\n",
        "\n",
        "# Demonstration of converting a letter and a string into Tensors\n",
        "print(lineToTensor(\"B\"))\n",
        "\n",
        "# Demonstration of converting a city name into a sequence of Tensors\n",
        "print(lineToTensor(\"Binghamton\"))"
      ]
    },
    {
      "cell_type": "markdown",
      "metadata": {
        "id": "nvdK4NCKwHTM"
      },
      "source": [
        "Next, we will convert the country names into PyTorch Tensors. We will assign a unique integer to each country.\n"
      ]
    },
    {
      "cell_type": "code",
      "execution_count": 146,
      "metadata": {
        "id": "a9sIIbudwHTM",
        "outputId": "465be8a4-9c36-41e5-afe9-b91df5c69e64",
        "colab": {
          "base_uri": "https://localhost:8080/"
        }
      },
      "outputs": [
        {
          "output_type": "execute_result",
          "data": {
            "text/plain": [
              "tensor([ 7,  5, 11,  ...,  5,  9,  8])"
            ]
          },
          "metadata": {},
          "execution_count": 146
        }
      ],
      "source": [
        "unique_countries = np.unique(train_target_data)\n",
        "country_to_index = {country: i for i, country in enumerate(unique_countries)}\n",
        "train_target = train_data[\"country\"].apply(lambda x: country_to_index[x]).values\n",
        "\n",
        "# Or alternatively\n",
        "# train_target = np.unonique(train_data[\"country\"], return_inverse=True)[1]\n",
        "\n",
        "train_target_data_tensor = torch.tensor(train_target)\n",
        "train_target_data_tensor"
      ]
    },
    {
      "cell_type": "markdown",
      "metadata": {
        "id": "H0zjDMZuwHTN"
      },
      "source": [
        "# Create a Dataset and Data loader\n",
        "\n",
        "We will create a custom dataset that takes the city names and the country names as input and returns the city names and the country names as an integer tensor.\n",
        "\n",
        "Then, we will create a data loader with a batch size of 512.\n"
      ]
    },
    {
      "cell_type": "code",
      "execution_count": 147,
      "metadata": {
        "id": "bezIbxANwHTN"
      },
      "outputs": [],
      "source": [
        "# TODO: Create a custom dataset class using torch.utils.data.Dataset\n",
        "class CityCountryDataset(torch.utils.data.Dataset):\n",
        "    def __init__(self, cities, countries):\n",
        "        self.cities = cities\n",
        "        self.countries = countries\n",
        "\n",
        "    def __len__(self):\n",
        "        \"\"\"Return the number of samples in the dataset\"\"\"\n",
        "        return len(self.cities)\n",
        "\n",
        "    def __getitem__(self, idx):\n",
        "        \"\"\"Return the sample with the given index idx\"\"\"\n",
        "        city = self.cities[idx]\n",
        "        country = self.countries[idx]\n",
        "        return city, country\n",
        "\n",
        "# TODO: Create the CityCountryDataset object\n",
        "train_dataset = CityCountryDataset(train_input_data, train_target_data_tensor)\n",
        "\n",
        "# TODO:  Create a DataLoader from the dataset with batch_size=32~512\n",
        "batch_size = 512\n",
        "train_dataloader = DataLoader(train_dataset, batch_size=batch_size, shuffle=True)\n"
      ]
    },
    {
      "cell_type": "markdown",
      "metadata": {
        "id": "2FQd7r-5wHTN"
      },
      "source": [
        "# Define the RNNs\n",
        "\n",
        "Let's create a simple RNN with two linear layers.\n",
        "* The input and hidden states will be concatenated first.\n",
        "* One layer computes the next hidden state, and another layer computes the output.\n",
        "* Tanh function is applied to the hidden state.  \n",
        "* No non-linear activation function is applied to the output.\n"
      ]
    },
    {
      "cell_type": "code",
      "execution_count": 158,
      "metadata": {
        "id": "WKFHu5smwHTN"
      },
      "outputs": [],
      "source": [
        "# TODO: Implement the RNN class\n",
        "class RNN(torch.nn.Module):\n",
        "    def __init__(self, input_size, hidden_size, output_size):\n",
        "        super(RNN, self).__init__()\n",
        "        \"\"\"Initialize the RNN with the given input, hidden, and output size\"\"\"\n",
        "        self.hidden_size = hidden_size\n",
        "        self.i2h = torch.nn.Linear(input_size + hidden_size, hidden_size)\n",
        "        self.i2o = torch.nn.Linear(input_size + hidden_size, output_size)\n",
        "\n",
        "    def forward(self, input, hidden):\n",
        "        \"\"\"Forward pass of the RNN\"\"\"\n",
        "        # Ensure input tensor has the same number of dimensions as hidden tensor\n",
        "        input = input.view(1, -1) if input.dim() == 1 else input\n",
        "        combined = torch.cat((input, hidden), 1)  # Concatenate along dimension 1\n",
        "        hidden = torch.tanh(self.i2h(combined))\n",
        "        output = self.i2o(combined)\n",
        "        return output, hidden\n",
        "\n",
        "    def initHidden(self):\n",
        "        \"\"\"Return a tensor of shape <1 x hidden_size> filled with zeros\"\"\"\n",
        "        return torch.zeros(1, self.hidden_size)\n",
        "\n",
        "# Define the number of countries\n",
        "num_countries = len(unique_countries)\n",
        "\n",
        "# Define the RNN model with hidden size 128\n",
        "input_size = len(unique_chars)\n",
        "hidden_size = 128\n",
        "output_size = num_countries\n",
        "rnn = RNN(input_size, hidden_size, output_size)\n",
        "\n"
      ]
    },
    {
      "cell_type": "markdown",
      "metadata": {
        "id": "M9hk2m9RwHTO"
      },
      "source": [
        "Given a city name, we need to run the RNN on each character of the city name. Then, we will take the output of the RNN for the last character as the final output.  \n",
        "\n",
        "Let's prepare a utility function to predict the country from the city name.\n"
      ]
    },
    {
      "cell_type": "code",
      "execution_count": 159,
      "metadata": {
        "id": "_XZqKj6xwHTO",
        "outputId": "f7f87503-132b-4c7b-d736-da21e8253573",
        "colab": {
          "base_uri": "https://localhost:8080/"
        }
      },
      "outputs": [
        {
          "output_type": "stream",
          "name": "stdout",
          "text": [
            "Output shape: torch.Size([1, 15])\n"
          ]
        }
      ],
      "source": [
        "# TODO: Run the RNN on the city name\n",
        "def run_rnn(city_name, rnn):\n",
        "    \"\"\"Run the RNN on the given city name\n",
        "\n",
        "    input:\n",
        "    city_name: str\n",
        "    rnn: RNN\n",
        "\n",
        "    output:\n",
        "    output: Tensor of shape <1 x n_countries>\n",
        "    \"\"\"\n",
        "\n",
        "    # Initialize the hidden state\n",
        "    hidden = rnn.initHidden()\n",
        "\n",
        "    # Convert the city name into a Tensor\n",
        "    input_tensor = city_to_tensor(city_name.lower(), unique_chars)\n",
        "\n",
        "    # Run the RNN on the input tensor\n",
        "    output, _ = rnn(input_tensor[0], hidden)\n",
        "\n",
        "    return output\n",
        "\n",
        "# Example usage:\n",
        "city_name = \"New York\"\n",
        "output = run_rnn(city_name, rnn)\n",
        "print(\"Output shape:\", output.shape)\n"
      ]
    },
    {
      "cell_type": "markdown",
      "metadata": {
        "id": "AH7rYfZvwHTO"
      },
      "source": [
        "# Let's train!\n",
        "\n",
        "## Preparation for the training\n"
      ]
    },
    {
      "cell_type": "markdown",
      "metadata": {
        "id": "KFnKt6n-wHTO"
      },
      "source": [
        "We will use the `CrossEntropyLoss` as the loss function. This loss function is useful to train a model for multiclass classification. ([link](https://pytorch.org/docs/stable/generated/torch.nn.CrossEntropyLoss.html))\n"
      ]
    },
    {
      "cell_type": "code",
      "execution_count": 160,
      "metadata": {
        "id": "64MQnK1QwHTO"
      },
      "outputs": [],
      "source": [
        "import torch.nn as nn\n",
        "\n",
        "# Define the loss function\n",
        "criterion = nn.CrossEntropyLoss()\n"
      ]
    },
    {
      "cell_type": "markdown",
      "metadata": {
        "id": "uTxcEcszwHTP"
      },
      "source": [
        "Optimizer\n"
      ]
    },
    {
      "cell_type": "code",
      "execution_count": 161,
      "metadata": {
        "id": "I0B0LGD9wHTP"
      },
      "outputs": [],
      "source": [
        "import torch.optim as optim\n",
        "\n",
        "# Define the learning rate\n",
        "learning_rate = 0.001\n",
        "\n",
        "# Define the optimizer\n",
        "optimizer = optim.Adam(rnn.parameters(), lr=learning_rate)\n"
      ]
    },
    {
      "cell_type": "markdown",
      "metadata": {
        "id": "WiSkw6rRwHTP"
      },
      "source": [
        "## Train\n"
      ]
    },
    {
      "cell_type": "code",
      "execution_count": 163,
      "metadata": {
        "id": "q2IAnAGiwHTP",
        "outputId": "2d79b02b-4a1e-4994-feee-f74ae948f052",
        "colab": {
          "base_uri": "https://localhost:8080/"
        }
      },
      "outputs": [
        {
          "output_type": "stream",
          "name": "stderr",
          "text": [
            "100%|██████████| 32/32 [00:15<00:00,  2.11it/s]\n"
          ]
        },
        {
          "output_type": "stream",
          "name": "stdout",
          "text": [
            "Epoch 1/2, Average Loss: 2.5127\n"
          ]
        },
        {
          "output_type": "stream",
          "name": "stderr",
          "text": [
            "100%|██████████| 32/32 [00:14<00:00,  2.21it/s]"
          ]
        },
        {
          "output_type": "stream",
          "name": "stdout",
          "text": [
            "Epoch 2/2, Average Loss: 2.5026\n"
          ]
        },
        {
          "output_type": "stream",
          "name": "stderr",
          "text": [
            "\n"
          ]
        }
      ],
      "source": [
        "from tqdm import tqdm\n",
        "\n",
        "n_epochs = 2  # number of epochs\n",
        "loss_values = []  # to store the loss values at each step\n",
        "\n",
        "# Set the model to training mode\n",
        "rnn.train()\n",
        "\n",
        "for epoch in range(n_epochs):\n",
        "    total_loss = 0.0\n",
        "    for batch_idx, (cities, country_labels) in enumerate(tqdm(train_dataloader)):\n",
        "        # Zero the gradients\n",
        "        optimizer.zero_grad()\n",
        "\n",
        "        # Iterate over each city name in the batch\n",
        "        for city, country_label in zip(cities, country_labels):\n",
        "            # Run the RNN on the city name\n",
        "            output = run_rnn(city, rnn)\n",
        "\n",
        "            # Calculate the loss\n",
        "            loss = criterion(output, country_label.unsqueeze(0))  # Unsqueeze to match the output shape\n",
        "\n",
        "            # Backward pass\n",
        "            loss.backward()\n",
        "\n",
        "            # Update the parameters\n",
        "            optimizer.step()\n",
        "\n",
        "            # Accumulate the total loss\n",
        "            total_loss += loss.item()\n",
        "\n",
        "    # Compute the average loss for the epoch\n",
        "    avg_loss = total_loss / len(train_dataset)\n",
        "    loss_values.append(avg_loss)\n",
        "    print(f\"Epoch {epoch+1}/{n_epochs}, Average Loss: {avg_loss:.4f}\")\n"
      ]
    },
    {
      "cell_type": "code",
      "execution_count": 164,
      "metadata": {
        "id": "_PUwTOGlwHTP",
        "outputId": "44b031cd-c33d-47e8-c38c-3ae142bad21b",
        "colab": {
          "base_uri": "https://localhost:8080/",
          "height": 466
        }
      },
      "outputs": [
        {
          "output_type": "execute_result",
          "data": {
            "text/plain": [
              "Text(0, 0.5, 'Loss')"
            ]
          },
          "metadata": {},
          "execution_count": 164
        },
        {
          "output_type": "display_data",
          "data": {
            "text/plain": [
              "<Figure size 640x480 with 1 Axes>"
            ],
            "image/png": "[encoded data removed]"
          },
          "metadata": {}
        }
      ],
      "source": [
        "# Plot the loss values\n",
        "import matplotlib.pyplot as plt\n",
        "\n",
        "plt.plot(loss_values)\n",
        "plt.xlabel(\"Batch\")\n",
        "plt.ylabel(\"Loss\")"
      ]
    },
    {
      "cell_type": "code",
      "execution_count": 165,
      "metadata": {
        "id": "1hN9lMpVwHTP",
        "outputId": "5b5daaf2-7912-4481-f733-863d91f26cf7",
        "colab": {
          "base_uri": "https://localhost:8080/",
          "height": 36
        }
      },
      "outputs": [
        {
          "output_type": "execute_result",
          "data": {
            "text/plain": [
              "'Russia'"
            ],
            "application/vnd.google.colaboratory.intrinsic+json": {
              "type": "string"
            }
          },
          "metadata": {},
          "execution_count": 165
        }
      ],
      "source": [
        "def predict_country(city_name, rnn):\n",
        "    output = run_rnn(city_name, rnn)\n",
        "    country_index = torch.argmax(output)\n",
        "    return unique_countries[country_index]\n",
        "\n",
        "\n",
        "city_name = \"New York\"\n",
        "predict_country(city_name, rnn)"
      ]
    },
    {
      "cell_type": "markdown",
      "metadata": {
        "id": "AjEyKrsrwHTP"
      },
      "source": [
        "The prediction won't be perfect because the model is trained on a small dataset. However, the model should be better than random. Let's check.  \n"
      ]
    },
    {
      "cell_type": "code",
      "execution_count": 166,
      "metadata": {
        "id": "gwKKBd1ewHTQ",
        "outputId": "1468f0c6-fcdc-4190-877f-bf192d119124",
        "colab": {
          "base_uri": "https://localhost:8080/"
        }
      },
      "outputs": [
        {
          "output_type": "stream",
          "name": "stdout",
          "text": [
            "Accuracy: 0.15\n",
            "Random accuracy: 0.07\n"
          ]
        }
      ],
      "source": [
        "# Read the test data\n",
        "test_data = pd.read_csv(f\"{root}/data/test.csv\")\n",
        "test_data.head()\n",
        "\n",
        "# Make predictions\n",
        "predictions = [\n",
        "    predict_country(city_name, rnn) for city_name in test_data[\"city\"].values\n",
        "]\n",
        "\n",
        "# Compute the accuracy of the model\n",
        "accuracy = (predictions == test_data[\"country\"]).mean()\n",
        "\n",
        "# Compute the accuracy of the random model\n",
        "random_accuracy = 1 / len(unique_countries)\n",
        "\n",
        "print(f\"Accuracy: {accuracy:.2f}\")\n",
        "print(f\"Random accuracy: {random_accuracy:.2f}\")"
      ]
    },
    {
      "cell_type": "markdown",
      "metadata": {
        "id": "asJJFEycwHTQ"
      },
      "source": [
        "# Submit the results\n",
        "\n",
        "Please **git commit & push** the following two files created in the following cell.\n",
        "\n",
        "1. \"~/assignments/rnn_test_predictions.csv\"\n",
        "\n",
        "2. \"~/assignments/rnn_loss_values.csv\"\n"
      ]
    },
    {
      "cell_type": "code",
      "execution_count": 167,
      "metadata": {
        "id": "8oUtAQ5iwHTQ"
      },
      "outputs": [],
      "source": [
        "pd.DataFrame(predictions).to_csv(\"./rnn_test_predictions.csv\", index=False)\n",
        "pd.DataFrame(loss_values).to_csv(\"./rnn_loss_values.csv\", index=False)"
      ]
    }
  ],
  "metadata": {
    "kernelspec": {
      "display_name": "applsoftcomp",
      "language": "python",
      "name": "python3"
    },
    "language_info": {
      "codemirror_mode": {
        "name": "ipython",
        "version": 3
      },
      "file_extension": ".py",
      "mimetype": "text/x-python",
      "name": "python",
      "nbconvert_exporter": "python",
      "pygments_lexer": "ipython3",
      "version": "3.11.7"
    },
    "colab": {
      "provenance": []
    }
  },
  "nbformat": 4,
  "nbformat_minor": 0
}